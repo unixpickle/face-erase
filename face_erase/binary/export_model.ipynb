{
 "cells": [
  {
   "cell_type": "code",
   "execution_count": null,
   "id": "d3d8fb71",
   "metadata": {},
   "outputs": [],
   "source": [
    "!curl https://github.com/akanametov/yolov8-face/releases/download/v0.0.0/yolov8n-face.pt > yolov8n-face.pt"
   ]
  },
  {
   "cell_type": "code",
   "execution_count": null,
   "id": "c4eff2af",
   "metadata": {},
   "outputs": [],
   "source": [
    "!git clone https://github.com/derronqi/yolov8-face"
   ]
  },
  {
   "cell_type": "code",
   "execution_count": null,
   "id": "8c9f8d36",
   "metadata": {},
   "outputs": [],
   "source": [
    "!cd yolov8-face && python3 -m pip install -e ."
   ]
  },
  {
   "cell_type": "code",
   "execution_count": null,
   "id": "460812dc",
   "metadata": {
    "scrolled": true
   },
   "outputs": [],
   "source": [
    "!apt install -y libgl1-mesa-glx"
   ]
  },
  {
   "cell_type": "code",
   "execution_count": null,
   "id": "6154c21e",
   "metadata": {
    "scrolled": true
   },
   "outputs": [],
   "source": [
    "!DEBIAN_FRONTEND=noninteractive apt install -y libglib2.0-0"
   ]
  },
  {
   "cell_type": "code",
   "execution_count": null,
   "id": "ba91ffe5",
   "metadata": {},
   "outputs": [],
   "source": [
    "from ultralytics import YOLO\n",
    "import torch\n",
    "\n",
    "model = YOLO('yolov8n-face.pt')\n",
    "\n",
    "traced = torch.jit.trace(model.model, torch.zeros(1, 3, 640, 640))\n",
    "torch.jit.save(traced, 'yolov8n-face-640x640.torchscript')"
   ]
  }
 ],
 "metadata": {
  "kernelspec": {
   "display_name": "Python 3 (ipykernel)",
   "language": "python",
   "name": "python3"
  },
  "language_info": {
   "codemirror_mode": {
    "name": "ipython",
    "version": 3
   },
   "file_extension": ".py",
   "mimetype": "text/x-python",
   "name": "python",
   "nbconvert_exporter": "python",
   "pygments_lexer": "ipython3",
   "version": "3.8.10"
  }
 },
 "nbformat": 4,
 "nbformat_minor": 5
}
